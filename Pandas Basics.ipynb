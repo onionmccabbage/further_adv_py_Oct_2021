{
 "cells": [
  {
   "cell_type": "markdown",
   "id": "e310f4ed",
   "metadata": {},
   "source": [
    "## Pandas and Numerical Data Analysis"
   ]
  },
  {
   "cell_type": "code",
   "execution_count": 8,
   "id": "1356dab9",
   "metadata": {},
   "outputs": [],
   "source": [
    "import numpy as np\n",
    "import pandas as pd\n",
    "import matplotlib.pyplot as plt\n",
    "\n",
    "# make life simple\n",
    "from pandas import Series, DataFrame"
   ]
  },
  {
   "cell_type": "code",
   "execution_count": 6,
   "id": "01f96c05",
   "metadata": {},
   "outputs": [
    {
     "data": {
      "text/plain": [
       "RangeIndex(start=0, stop=4, step=1)"
      ]
     },
     "execution_count": 6,
     "metadata": {},
     "output_type": "execute_result"
    }
   ],
   "source": [
    "# Pandas has additional data structures - Series and DataFrame\n",
    "s = pd.Series([4, 7, -5, 3]) # a series from a list\n",
    "s # the members all have an implicit index\n",
    "s.values # an array\n",
    "s.index # RangeIndex"
   ]
  },
  {
   "cell_type": "code",
   "execution_count": 11,
   "id": "0a3fa4e6",
   "metadata": {},
   "outputs": [
    {
     "data": {
      "text/plain": [
       "array([6, 5, 4, 3, 2], dtype=int64)"
      ]
     },
     "execution_count": 11,
     "metadata": {},
     "output_type": "execute_result"
    }
   ],
   "source": [
    "s = Series([6,5,4,3,2])\n",
    "s.values"
   ]
  },
  {
   "cell_type": "code",
   "execution_count": 18,
   "id": "63e1d01c",
   "metadata": {},
   "outputs": [
    {
     "data": {
      "text/plain": [
       "-5"
      ]
     },
     "execution_count": 18,
     "metadata": {},
     "output_type": "execute_result"
    }
   ],
   "source": [
    "# we can provide our own index for series\n",
    "s2 = Series([4, 7, -5, 3], index=['d', 'b', 'a', 'c'])\n",
    "s2.index\n",
    "s2.values\n",
    "s2\n",
    "s2['a'] # -5"
   ]
  },
  {
   "cell_type": "code",
   "execution_count": 22,
   "id": "3ad0f294",
   "metadata": {},
   "outputs": [
    {
     "data": {
      "text/plain": [
       "d    4\n",
       "b    7\n",
       "c    3\n",
       "dtype: int64"
      ]
     },
     "execution_count": 22,
     "metadata": {},
     "output_type": "execute_result"
    }
   ],
   "source": [
    "# we can filter members\n",
    "s2[s2>0]"
   ]
  },
  {
   "cell_type": "code",
   "execution_count": 24,
   "id": "38bed4b0",
   "metadata": {},
   "outputs": [
    {
     "data": {
      "text/plain": [
       "d     64\n",
       "b    343\n",
       "a   -125\n",
       "c     27\n",
       "dtype: int64"
      ]
     },
     "execution_count": 24,
     "metadata": {},
     "output_type": "execute_result"
    }
   ],
   "source": [
    "# obvious maths - very efficient and performant\n",
    "s2**3"
   ]
  },
  {
   "cell_type": "code",
   "execution_count": 27,
   "id": "e19f4493",
   "metadata": {},
   "outputs": [
    {
     "data": {
      "text/plain": [
       "False"
      ]
     },
     "execution_count": 27,
     "metadata": {},
     "output_type": "execute_result"
    }
   ],
   "source": [
    "# we can look for members being present\n",
    "'b' in s2\n",
    "'f' in s2"
   ]
  },
  {
   "cell_type": "code",
   "execution_count": 29,
   "id": "5b2e35eb",
   "metadata": {},
   "outputs": [
    {
     "data": {
      "text/plain": [
       "Ohio      35000\n",
       "Texas     71000\n",
       "Oregon    16000\n",
       "Utah       5000\n",
       "dtype: int64"
      ]
     },
     "execution_count": 29,
     "metadata": {},
     "output_type": "execute_result"
    }
   ],
   "source": [
    "# we can make Python structures into Series\n",
    "s_dict = {'Ohio':35000, 'Texas':71000, 'Oregon':16000, 'Utah':5000}\n",
    "s3 = Series(s_dict)\n",
    "s3"
   ]
  },
  {
   "cell_type": "code",
   "execution_count": 35,
   "id": "5054c88a",
   "metadata": {},
   "outputs": [
    {
     "data": {
      "text/plain": [
       "California        NaN\n",
       "Ohio          35000.0\n",
       "Oregon        16000.0\n",
       "Texas         71000.0\n",
       "dtype: float64"
      ]
     },
     "execution_count": 35,
     "metadata": {},
     "output_type": "execute_result"
    }
   ],
   "source": [
    "states = ['California', 'Ohio', 'Oregon', 'Texas'] #, 'Utah']\n",
    "s4 = Series(s_dict, index=states)\n",
    "s4"
   ]
  },
  {
   "cell_type": "code",
   "execution_count": 41,
   "id": "ce2d40c1",
   "metadata": {},
   "outputs": [
    {
     "data": {
      "text/plain": [
       "numpy.float64"
      ]
     },
     "execution_count": 41,
     "metadata": {},
     "output_type": "execute_result"
    }
   ],
   "source": [
    "# NaN represents the absence of a number\n",
    "# but .... every column must contain consistent data type...\n",
    "# therefore NaN is a numeric type!!!\n",
    "type(s4['California']) # see!"
   ]
  },
  {
   "cell_type": "code",
   "execution_count": 46,
   "id": "ce75a821",
   "metadata": {},
   "outputs": [
    {
     "data": {
      "text/plain": [
       "California    False\n",
       "Ohio           True\n",
       "Oregon         True\n",
       "Texas          True\n",
       "dtype: bool"
      ]
     },
     "execution_count": 46,
     "metadata": {},
     "output_type": "execute_result"
    }
   ],
   "source": [
    "# we can spot spurious data members in our structures\n",
    "pd.isnull(s4)# null\n",
    "pd.isna(s4) # not available\n",
    "pd.notnull(s4)"
   ]
  },
  {
   "cell_type": "code",
   "execution_count": 49,
   "id": "a9e1f4f6",
   "metadata": {},
   "outputs": [
    {
     "data": {
      "text/plain": [
       "California         NaN\n",
       "Ohio           70000.0\n",
       "Oregon         32000.0\n",
       "Texas         142000.0\n",
       "Utah               NaN\n",
       "dtype: float64"
      ]
     },
     "execution_count": 49,
     "metadata": {},
     "output_type": "execute_result"
    }
   ],
   "source": [
    "# maths!!\n",
    "s4+s3 # NaN if missing from Either side"
   ]
  },
  {
   "cell_type": "code",
   "execution_count": 51,
   "id": "45aa9a31",
   "metadata": {},
   "outputs": [
    {
     "data": {
      "text/plain": [
       "State\n",
       "Ohio      35000\n",
       "Texas     71000\n",
       "Oregon    16000\n",
       "Utah       5000\n",
       "Name: Efficiency, dtype: int64"
      ]
     },
     "execution_count": 51,
     "metadata": {},
     "output_type": "execute_result"
    }
   ],
   "source": [
    "# we can name our index!\n",
    "s3.index.name = 'State'\n",
    "s3.name = 'Efficiency'\n",
    "s3"
   ]
  }
 ],
 "metadata": {
  "kernelspec": {
   "display_name": "Python 3",
   "language": "python",
   "name": "python3"
  },
  "language_info": {
   "codemirror_mode": {
    "name": "ipython",
    "version": 3
   },
   "file_extension": ".py",
   "mimetype": "text/x-python",
   "name": "python",
   "nbconvert_exporter": "python",
   "pygments_lexer": "ipython3",
   "version": "3.8.8"
  }
 },
 "nbformat": 4,
 "nbformat_minor": 5
}
