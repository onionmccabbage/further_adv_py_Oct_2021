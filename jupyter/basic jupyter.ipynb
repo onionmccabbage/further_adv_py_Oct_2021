{
 "cells": [
  {
   "cell_type": "markdown",
   "id": "0fc78571",
   "metadata": {},
   "source": [
    "## Using Jupyter Notebooks"
   ]
  },
  {
   "cell_type": "code",
   "execution_count": 1,
   "id": "24fbfe47",
   "metadata": {},
   "outputs": [
    {
     "data": {
      "text/plain": [
       "0.42857142857142855"
      ]
     },
     "execution_count": 1,
     "metadata": {},
     "output_type": "execute_result"
    }
   ],
   "source": [
    "# this is a code cell\n",
    "a = 3\n",
    "b = 7\n",
    "a/b"
   ]
  },
  {
   "cell_type": "markdown",
   "id": "cbe27045",
   "metadata": {},
   "source": [
    "#### Shortcuts\n",
    "ctrl-enter runs the current cell\n",
    "shift-enter runs the current cell and creates a new cell below"
   ]
  },
  {
   "cell_type": "code",
   "execution_count": 7,
   "id": "e1830101",
   "metadata": {},
   "outputs": [
    {
     "name": "stdout",
     "output_type": "stream",
     "text": [
      "español\n"
     ]
    },
    {
     "data": {
      "text/plain": [
       "('español', str, b'espa\\xc3\\xb1ol', bytes)"
      ]
     },
     "execution_count": 7,
     "metadata": {},
     "output_type": "execute_result"
    }
   ],
   "source": [
    "v = 'español'\n",
    "print(v) # remember print uses __str__\n",
    "v_utf = v.encode('utf-8')\n",
    "v, type(v), v_utf, type(v_utf) # the final line of a cell may output a response using __repr__"
   ]
  },
  {
   "cell_type": "code",
   "execution_count": 8,
   "id": "0dfa765c",
   "metadata": {},
   "outputs": [],
   "source": [
    "# we can declare functions\n",
    "def cube(n):\n",
    "    return n*n*n"
   ]
  },
  {
   "cell_type": "code",
   "execution_count": 9,
   "id": "eabbb730",
   "metadata": {},
   "outputs": [
    {
     "data": {
      "text/plain": [
       "27"
      ]
     },
     "execution_count": 9,
     "metadata": {},
     "output_type": "execute_result"
    }
   ],
   "source": [
    "cube(3)"
   ]
  },
  {
   "cell_type": "code",
   "execution_count": 10,
   "id": "906a249e",
   "metadata": {},
   "outputs": [
    {
     "data": {
      "text/plain": [
       "-27"
      ]
     },
     "execution_count": 10,
     "metadata": {},
     "output_type": "execute_result"
    }
   ],
   "source": [
    "cube(-3)"
   ]
  },
  {
   "cell_type": "code",
   "execution_count": 11,
   "id": "5dc2d903",
   "metadata": {},
   "outputs": [
    {
     "data": {
      "text/plain": [
       "'español'"
      ]
     },
     "execution_count": 11,
     "metadata": {},
     "output_type": "execute_result"
    }
   ],
   "source": [
    "v # notebooks remember values from previous cells that have run"
   ]
  },
  {
   "cell_type": "code",
   "execution_count": 14,
   "id": "d992b001",
   "metadata": {},
   "outputs": [
    {
     "data": {
      "text/plain": [
       "[3, 4, 5, 6, 7, 8]"
      ]
     },
     "execution_count": 14,
     "metadata": {},
     "output_type": "execute_result"
    }
   ],
   "source": [
    "# Unpacking tuples\n",
    "t = (4,5,6,7)\n",
    "a,b,c,d = t\n",
    "d\n",
    "sew = 1,2,3,4,5,6,7,8 # look - no brackets\n",
    "sew # this is a tuple!!\n",
    "x, y, *rest = sew\n",
    "rest # a list of the 'rest' of the values"
   ]
  },
  {
   "cell_type": "code",
   "execution_count": null,
   "id": "430dfdf5",
   "metadata": {},
   "outputs": [],
   "source": []
  }
 ],
 "metadata": {
  "kernelspec": {
   "display_name": "Python 3",
   "language": "python",
   "name": "python3"
  },
  "language_info": {
   "codemirror_mode": {
    "name": "ipython",
    "version": 3
   },
   "file_extension": ".py",
   "mimetype": "text/x-python",
   "name": "python",
   "nbconvert_exporter": "python",
   "pygments_lexer": "ipython3",
   "version": "3.8.8"
  }
 },
 "nbformat": 4,
 "nbformat_minor": 5
}
