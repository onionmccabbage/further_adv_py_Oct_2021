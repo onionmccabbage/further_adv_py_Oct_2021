{
 "cells": [
  {
   "cell_type": "markdown",
   "id": "700cb0c7",
   "metadata": {},
   "source": [
    "## Review Exercise"
   ]
  },
  {
   "cell_type": "code",
   "execution_count": 1,
   "id": "c0959726",
   "metadata": {},
   "outputs": [],
   "source": [
    "import numpy as np # no need to pip install, since it comes with Anaconda\n",
    "np.random.seed(12345) # this ensures any random numbers have an arbitrary seed\n",
    "np.set_printoptions(precision=4) # we will always print numbers to 4dp"
   ]
  },
  {
   "cell_type": "markdown",
   "id": "bbfe2d65",
   "metadata": {},
   "source": [
    "Compute the mean, standard deviation and variance of a given array"
   ]
  },
  {
   "cell_type": "code",
   "execution_count": 14,
   "id": "f39ff1e9",
   "metadata": {},
   "outputs": [
    {
     "data": {
      "text/plain": [
       "2.9166666666666665"
      ]
     },
     "execution_count": 14,
     "metadata": {},
     "output_type": "execute_result"
    }
   ],
   "source": [
    "x = np.arange(6) # make an array\n",
    "np.mean(x) # compare with np.average(x)\n",
    "\n",
    "r = np.var(x)\n",
    "# here is a Numpy Structure\n",
    "arr = np.array(np.std(x))\n",
    "arr # Numpy Structures will regard our precision settings\n",
    "r #despite using Numpy, this is NOT a Numpy Structure"
   ]
  },
  {
   "cell_type": "code",
   "execution_count": null,
   "id": "52b756b9",
   "metadata": {},
   "outputs": [],
   "source": []
  }
 ],
 "metadata": {
  "kernelspec": {
   "display_name": "Python 3",
   "language": "python",
   "name": "python3"
  },
  "language_info": {
   "codemirror_mode": {
    "name": "ipython",
    "version": 3
   },
   "file_extension": ".py",
   "mimetype": "text/x-python",
   "name": "python",
   "nbconvert_exporter": "python",
   "pygments_lexer": "ipython3",
   "version": "3.8.8"
  }
 },
 "nbformat": 4,
 "nbformat_minor": 5
}
