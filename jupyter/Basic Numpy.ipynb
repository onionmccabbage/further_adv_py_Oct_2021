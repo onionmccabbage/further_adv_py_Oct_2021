{
 "cells": [
  {
   "cell_type": "markdown",
   "id": "781d40a7",
   "metadata": {},
   "source": [
    "## Numpy Basics: Arrays and Vector Computation"
   ]
  },
  {
   "cell_type": "code",
   "execution_count": 47,
   "id": "9599031b",
   "metadata": {},
   "outputs": [],
   "source": [
    "import numpy as np # no need to pip install, since it comes with Anaconda\n",
    "np.random.seed(12345) # this ensures any random numbers have an arbitrary seed\n",
    "np.set_printoptions(precision=4) # we will always print numbers to 4dp"
   ]
  },
  {
   "cell_type": "code",
   "execution_count": 2,
   "id": "d5bc2512",
   "metadata": {},
   "outputs": [
    {
     "name": "stdout",
     "output_type": "stream",
     "text": [
      "1.23456\n"
     ]
    }
   ],
   "source": [
    "c  =1.23456\n",
    "print(c) # this is not using Numpy!!!"
   ]
  },
  {
   "cell_type": "code",
   "execution_count": 3,
   "id": "a42bb010",
   "metadata": {},
   "outputs": [
    {
     "data": {
      "text/plain": [
       "numpy.ndarray"
      ]
     },
     "execution_count": 3,
     "metadata": {},
     "output_type": "execute_result"
    }
   ],
   "source": [
    "# we use array-range in Numpy\n",
    "my_ar = np.arange(1000000) # this is an array-range limited only by resources\n",
    "my_ar\n",
    "type(my_ar) # it is an n-dimensional array"
   ]
  },
  {
   "cell_type": "markdown",
   "id": "3a5f94a5",
   "metadata": {},
   "source": [
    "### Numpy arrays are efficient partly because they allow only one data type"
   ]
  },
  {
   "cell_type": "code",
   "execution_count": 4,
   "id": "15c1789d",
   "metadata": {},
   "outputs": [
    {
     "name": "stdout",
     "output_type": "stream",
     "text": [
      "Wall time: 18 ms\n",
      "Wall time: 839 ms\n"
     ]
    }
   ],
   "source": [
    "# explore the performance of a Numpy array versus a normal python range\n",
    "l = list(range(1000000)) # a million\n",
    "# jupyter has an immediate syntax like this\n",
    "%time for i in range(10):my_ar2 = my_ar*2 # multiply every member by 2\n",
    "%time for i in range(10):l2     = [x*2 for x in l]"
   ]
  },
  {
   "cell_type": "code",
   "execution_count": 5,
   "id": "9feb6dc3",
   "metadata": {},
   "outputs": [
    {
     "data": {
      "text/plain": [
       "(array([[-0.2047,  0.4789, -0.5194],\n",
       "        [-0.5557,  1.9658,  1.3934]]),\n",
       " array([[-0.6141,  1.4368, -1.5583],\n",
       "        [-1.6672,  5.8973,  4.1802]]))"
      ]
     },
     "execution_count": 5,
     "metadata": {},
     "output_type": "execute_result"
    }
   ],
   "source": [
    "# arrays can be multidimentional\n",
    "data = np.random.randn(2,3) # this is a 2 by 3 array\n",
    "# remember = more than one __repr__ will show a tuple\n",
    "data, data*3 # all the usual maths operators work"
   ]
  },
  {
   "cell_type": "code",
   "execution_count": 6,
   "id": "8896ab18",
   "metadata": {},
   "outputs": [
    {
     "data": {
      "text/plain": [
       "dtype('float64')"
      ]
     },
     "execution_count": 6,
     "metadata": {},
     "output_type": "execute_result"
    }
   ],
   "source": [
    "# arrays have a shape and a type\n",
    "data.shape\n",
    "data.dtype # the dataa type of the members of this array"
   ]
  },
  {
   "cell_type": "code",
   "execution_count": 7,
   "id": "c573f438",
   "metadata": {},
   "outputs": [
    {
     "data": {
      "text/plain": [
       "(2, 4)"
      ]
     },
     "execution_count": 7,
     "metadata": {},
     "output_type": "execute_result"
    }
   ],
   "source": [
    "d2 = [[7,6,5,4],[-2,-3,-4,-5]] # list of lists\n",
    "ar3 = np.array(d2)\n",
    "ar3.dtype\n",
    "ar3.ndim\n",
    "ar3.shape"
   ]
  },
  {
   "cell_type": "markdown",
   "id": "c0d3ce65",
   "metadata": {},
   "source": [
    "### Numpy has several constructors for Arrays"
   ]
  },
  {
   "cell_type": "code",
   "execution_count": 8,
   "id": "adcd96a0",
   "metadata": {},
   "outputs": [
    {
     "data": {
      "text/plain": [
       "array([[0.6141, 1.4368, 1.5583],\n",
       "       [1.6672, 5.8973, 4.1802]])"
      ]
     },
     "execution_count": 8,
     "metadata": {},
     "output_type": "execute_result"
    }
   ],
   "source": [
    "z = np.zeros((3,4,2)) # multi-dimensional\n",
    "z\n",
    "e = np.empty((2,3)) # the memory used may not actually be empty\n",
    "e"
   ]
  },
  {
   "cell_type": "code",
   "execution_count": 9,
   "id": "4b9b298d",
   "metadata": {},
   "outputs": [
    {
     "data": {
      "text/plain": [
       "dtype('int64')"
      ]
     },
     "execution_count": 9,
     "metadata": {},
     "output_type": "execute_result"
    }
   ],
   "source": [
    "# we can force a dat aatype\n",
    "a1 = np.array([1,2,3], dtype=np.float32)\n",
    "a1.dtype\n",
    "a1\n",
    "a_i = a1.astype(np.int64)\n",
    "a_i.dtype"
   ]
  },
  {
   "cell_type": "code",
   "execution_count": 10,
   "id": "51348254",
   "metadata": {},
   "outputs": [
    {
     "data": {
      "text/plain": [
       "dtype('float64')"
      ]
     },
     "execution_count": 10,
     "metadata": {},
     "output_type": "execute_result"
    }
   ],
   "source": [
    "n_s = np.array(['1.25', '9.6', '-42'], dtype=np.string_)\n",
    "n_s.dtype\n",
    "n_f = n_s.astype(float)\n",
    "n_f.dtype"
   ]
  },
  {
   "cell_type": "code",
   "execution_count": 11,
   "id": "2953d124",
   "metadata": {},
   "outputs": [
    {
     "data": {
      "text/plain": [
       "array([[5.4365e-01, 3.2441e+01, 8.0996e-09],\n",
       "       [1.8944e+00, 2.5021e+07, 8.1217e-27]])"
      ]
     },
     "execution_count": 11,
     "metadata": {},
     "output_type": "execute_result"
    }
   ],
   "source": [
    "e ** n_f"
   ]
  },
  {
   "cell_type": "code",
   "execution_count": 12,
   "id": "85db0696",
   "metadata": {},
   "outputs": [
    {
     "data": {
      "text/plain": [
       "array([[ True,  True, False],\n",
       "       [False,  True, False]])"
      ]
     },
     "execution_count": 12,
     "metadata": {},
     "output_type": "execute_result"
    }
   ],
   "source": [
    "e < n_f"
   ]
  },
  {
   "cell_type": "markdown",
   "id": "44bb9941",
   "metadata": {},
   "source": [
    "### We can Slice Arrays much like Slicing other Python collections"
   ]
  },
  {
   "cell_type": "code",
   "execution_count": 13,
   "id": "2ff0bf8e",
   "metadata": {},
   "outputs": [
    {
     "data": {
      "text/plain": [
       "array([ 5, -9,  7,  8])"
      ]
     },
     "execution_count": 13,
     "metadata": {},
     "output_type": "execute_result"
    }
   ],
   "source": [
    "a = np.arange(10)\n",
    "a[5:8]\n",
    "a[1:9:3] # start, stop-before, step\n",
    "a_s = a[5:9] # creates a ref to the original\n",
    "a[6] = -9 # mutate the original array\n",
    "a\n",
    "a_s # the reference also updates"
   ]
  },
  {
   "cell_type": "code",
   "execution_count": 14,
   "id": "341102ca",
   "metadata": {},
   "outputs": [
    {
     "data": {
      "text/plain": [
       "array([ 0,  1,  2,  3,  4,  5, -9,  7,  8,  9])"
      ]
     },
     "execution_count": 14,
     "metadata": {},
     "output_type": "execute_result"
    }
   ],
   "source": [
    "# we can create copies with no reference\n",
    "b = a.copy() # a copy with no reference to the original\n",
    "b"
   ]
  },
  {
   "cell_type": "code",
   "execution_count": 15,
   "id": "80ef3429",
   "metadata": {},
   "outputs": [
    {
     "data": {
      "text/plain": [
       "array([ 0,  1,  2,  3,  4,  5, -9, 99,  8,  9])"
      ]
     },
     "execution_count": 15,
     "metadata": {},
     "output_type": "execute_result"
    }
   ],
   "source": [
    "a[7] = 99\n",
    "a"
   ]
  },
  {
   "cell_type": "code",
   "execution_count": 16,
   "id": "f50c38fc",
   "metadata": {},
   "outputs": [
    {
     "data": {
      "text/plain": [
       "array([ 0,  1,  2,  3,  4,  5, -9,  7,  8,  9])"
      ]
     },
     "execution_count": 16,
     "metadata": {},
     "output_type": "execute_result"
    }
   ],
   "source": [
    "b # copy so has not been altered"
   ]
  },
  {
   "cell_type": "markdown",
   "id": "8e40bded",
   "metadata": {},
   "source": [
    "### Using Indexing"
   ]
  },
  {
   "cell_type": "code",
   "execution_count": 19,
   "id": "029b22e6",
   "metadata": {},
   "outputs": [
    {
     "data": {
      "text/plain": [
       "array([[ 0.0929,  0.2817,  0.769 ],\n",
       "       [ 1.2464,  1.0072, -1.2962],\n",
       "       [ 0.275 ,  0.2289,  1.3529],\n",
       "       [ 0.8864, -2.0016, -0.3718]])"
      ]
     },
     "execution_count": 19,
     "metadata": {},
     "output_type": "execute_result"
    }
   ],
   "source": [
    "names = np.array(['Amy', 'Beater', 'Cathy', 'Deidre'])\n",
    "data  = np.random.randn(4,3)\n",
    "names\n",
    "data"
   ]
  },
  {
   "cell_type": "code",
   "execution_count": 27,
   "id": "1b683c52",
   "metadata": {},
   "outputs": [
    {
     "data": {
      "text/plain": [
       "array([[ 1.2464,  1.0072, -1.2962]])"
      ]
     },
     "execution_count": 27,
     "metadata": {},
     "output_type": "execute_result"
    }
   ],
   "source": [
    "names >= 'B' # or names == 'Amy'\n",
    "data[names=='Beater'] # False, True, False, False"
   ]
  },
  {
   "cell_type": "markdown",
   "id": "01162a1b",
   "metadata": {},
   "source": [
    "### Remember - Correlation is NOT causation"
   ]
  },
  {
   "cell_type": "markdown",
   "id": "4d65a2b9",
   "metadata": {},
   "source": [
    "## Reshaping Data"
   ]
  },
  {
   "cell_type": "code",
   "execution_count": 29,
   "id": "17b81168",
   "metadata": {},
   "outputs": [],
   "source": [
    "# most operations in Numpy an Pandas are not persistent\n",
    "arr = np.arange(32) # one-dimentional array"
   ]
  },
  {
   "cell_type": "code",
   "execution_count": 31,
   "id": "29635a2e",
   "metadata": {},
   "outputs": [
    {
     "data": {
      "text/plain": [
       "array([[ 0,  1,  2,  3],\n",
       "       [ 4,  5,  6,  7],\n",
       "       [ 8,  9, 10, 11],\n",
       "       [12, 13, 14, 15],\n",
       "       [16, 17, 18, 19],\n",
       "       [20, 21, 22, 23],\n",
       "       [24, 25, 26, 27],\n",
       "       [28, 29, 30, 31]])"
      ]
     },
     "execution_count": 31,
     "metadata": {},
     "output_type": "execute_result"
    }
   ],
   "source": [
    "arr.reshape(8,4) # an 8 by 4 array"
   ]
  },
  {
   "cell_type": "code",
   "execution_count": 32,
   "id": "e83eb32b",
   "metadata": {},
   "outputs": [
    {
     "data": {
      "text/plain": [
       "array([ 0,  1,  2,  3,  4,  5,  6,  7,  8,  9, 10, 11, 12, 13, 14, 15, 16,\n",
       "       17, 18, 19, 20, 21, 22, 23, 24, 25, 26, 27, 28, 29, 30, 31])"
      ]
     },
     "execution_count": 32,
     "metadata": {},
     "output_type": "execute_result"
    }
   ],
   "source": [
    "arr # it's still one dimentioanl"
   ]
  },
  {
   "cell_type": "code",
   "execution_count": 37,
   "id": "68ff68e8",
   "metadata": {},
   "outputs": [
    {
     "data": {
      "text/plain": [
       "array([[ 0,  1,  2,  3],\n",
       "       [ 4,  5,  6,  7],\n",
       "       [ 8,  9, 10, 11],\n",
       "       [12, 13, 14, 15],\n",
       "       [16, 17, 18, 19],\n",
       "       [20, 21, 22, 23],\n",
       "       [24, 25, 26, 27],\n",
       "       [28, 29, 30, 31]])"
      ]
     },
     "execution_count": 37,
     "metadata": {},
     "output_type": "execute_result"
    }
   ],
   "source": [
    "arr2 = arr.reshape(8,4)\n",
    "arr2 # persists the output of the reshaoe of 'arr'"
   ]
  },
  {
   "cell_type": "code",
   "execution_count": 35,
   "id": "82042eda",
   "metadata": {},
   "outputs": [
    {
     "data": {
      "text/plain": [
       "array([[ 0,  4,  8, 12, 16, 20, 24, 28],\n",
       "       [ 1,  5,  9, 13, 17, 21, 25, 29],\n",
       "       [ 2,  6, 10, 14, 18, 22, 26, 30],\n",
       "       [ 3,  7, 11, 15, 19, 23, 27, 31]])"
      ]
     },
     "execution_count": 35,
     "metadata": {},
     "output_type": "execute_result"
    }
   ],
   "source": [
    "arr3 = arr2.T # T for transpose\n",
    "arr2 # 8 by 4\n",
    "arr3 # 4 by 8"
   ]
  },
  {
   "cell_type": "markdown",
   "id": "93077ede",
   "metadata": {},
   "source": [
    "### Numpy has 'dot' arithmetic"
   ]
  },
  {
   "cell_type": "code",
   "execution_count": 36,
   "id": "dd501d93",
   "metadata": {},
   "outputs": [
    {
     "data": {
      "text/plain": [
       "array([[2240, 2352, 2464, 2576],\n",
       "       [2352, 2472, 2592, 2712],\n",
       "       [2464, 2592, 2720, 2848],\n",
       "       [2576, 2712, 2848, 2984]])"
      ]
     },
     "execution_count": 36,
     "metadata": {},
     "output_type": "execute_result"
    }
   ],
   "source": [
    "r = np.dot(arr2.T, arr2)\n",
    "r"
   ]
  },
  {
   "cell_type": "code",
   "execution_count": 42,
   "id": "d0d259c5",
   "metadata": {},
   "outputs": [
    {
     "data": {
      "text/plain": [
       "110"
      ]
     },
     "execution_count": 42,
     "metadata": {},
     "output_type": "execute_result"
    }
   ],
   "source": [
    "# simpler example\n",
    "da = np.array([2,1,1,1])\n",
    "da.reshape(2,2)\n",
    "db = np.array([10,20,30,40])\n",
    "db.reshape(2,2)\n",
    "s = np.dot(da, db)\n",
    "s"
   ]
  },
  {
   "cell_type": "markdown",
   "id": "da6de25f",
   "metadata": {},
   "source": [
    "### Fast element-wise Array Functions"
   ]
  },
  {
   "cell_type": "code",
   "execution_count": 48,
   "id": "ee7dc71e",
   "metadata": {},
   "outputs": [
    {
     "data": {
      "text/plain": [
       "array([0.    , 1.    , 1.4142, 1.7321, 2.    , 2.2361, 2.4495, 2.6458,\n",
       "       2.8284, 3.    ])"
      ]
     },
     "execution_count": 48,
     "metadata": {},
     "output_type": "execute_result"
    }
   ],
   "source": [
    "arr = np.arange(10)\n",
    "np.sqrt(arr) # remember we are outputing to 4dp after any calculations"
   ]
  },
  {
   "cell_type": "code",
   "execution_count": 54,
   "id": "0437644b",
   "metadata": {},
   "outputs": [
    {
     "data": {
      "text/plain": [
       "4.5"
      ]
     },
     "execution_count": 54,
     "metadata": {},
     "output_type": "execute_result"
    }
   ],
   "source": [
    "np.exp(arr)\n",
    "np.median(arr) # median for 0,1,2,3,4,5,6,7,8,9 is 4.5"
   ]
  },
  {
   "cell_type": "code",
   "execution_count": 68,
   "id": "cb3fcb2b",
   "metadata": {},
   "outputs": [
    {
     "name": "stdout",
     "output_type": "stream",
     "text": [
      "Wall time: 0 ns\n",
      "3\n",
      "4\n",
      "1\n",
      "2\n",
      "Wall time: 0 ns\n"
     ]
    }
   ],
   "source": [
    "# vectorize\n",
    "def myfunc(a, b):\n",
    "    \"Return a-b if a>b, otherwise return a+b\"\n",
    "    if a > b:\n",
    "        return a - b\n",
    "    else:\n",
    "        return a + b\n",
    "vfunc = np.vectorize(myfunc)\n",
    "%time vfunc([1, 2, 3, 4], [4,3,2,1])\n",
    "\n",
    "# we can just call these directly in to hte fn\n",
    "def fn():\n",
    "    for a in range(1,5):\n",
    "        print(myfunc(a, 2))\n",
    "%time fn()\n",
    "    "
   ]
  },
  {
   "cell_type": "code",
   "execution_count": null,
   "id": "8801c4b7",
   "metadata": {},
   "outputs": [],
   "source": []
  },
  {
   "cell_type": "markdown",
   "id": "9ca96562",
   "metadata": {},
   "source": [
    "### Array-Oriented Programming"
   ]
  },
  {
   "cell_type": "markdown",
   "id": "5a55d9e3",
   "metadata": {},
   "source": [
    "#### Reading in External Data Files"
   ]
  },
  {
   "cell_type": "code",
   "execution_count": 79,
   "id": "4c3d088e",
   "metadata": {
    "scrolled": false
   },
   "outputs": [
    {
     "data": {
      "text/plain": [
       "(150, 5)"
      ]
     },
     "execution_count": 79,
     "metadata": {},
     "output_type": "execute_result"
    }
   ],
   "source": [
    "url = 'https://archive.ics.uci.edu/ml/machine-learning-databases/iris/iris.data'\n",
    "# generate from text genfromtxt\n",
    "iris_2d = np.genfromtxt(url, delimiter=',', dtype='float')\n",
    "iris_2d.shape"
   ]
  },
  {
   "cell_type": "code",
   "execution_count": 81,
   "id": "40044453",
   "metadata": {},
   "outputs": [],
   "source": [
    "# we can store this data locally\n",
    "np.save('iris_arr.npy', iris_2d) # saves to the root of where Jupyter is running"
   ]
  },
  {
   "cell_type": "code",
   "execution_count": 88,
   "id": "bdd85670",
   "metadata": {},
   "outputs": [],
   "source": [
    "retrieved = np.load('iris_arr.npy')\n",
    "retrieved\n",
    "# we may choose to compress the data on save\n",
    "np.savez_compressed('iris_compressed.npz', i=iris_2d, d=arr) # two arrays in one file"
   ]
  },
  {
   "cell_type": "code",
   "execution_count": 90,
   "id": "92ff421d",
   "metadata": {},
   "outputs": [
    {
     "data": {
      "text/plain": [
       "array([0, 1, 2, 3, 4, 5, 6, 7, 8, 9])"
      ]
     },
     "execution_count": 90,
     "metadata": {},
     "output_type": "execute_result"
    }
   ],
   "source": [
    "# load in the same way\n",
    "archived = np.load('iris_compressed.npz')\n",
    "archived['d']"
   ]
  },
  {
   "cell_type": "code",
   "execution_count": 91,
   "id": "a420e8dd",
   "metadata": {},
   "outputs": [
    {
     "name": "stdout",
     "output_type": "stream",
     "text": [
      "C:\\Users\\rb17\\Documents\\jupyter\\iris_compressed.npz\n"
     ]
    },
    {
     "name": "stderr",
     "output_type": "stream",
     "text": [
      "The process cannot access the file because it is being used by another process.\n"
     ]
    }
   ],
   "source": [
    "# we can delete files\n",
    "# excalamation mark will try to invoke a command on the command line\n",
    "!del iris_compressed.npz # !rm on linux"
   ]
  },
  {
   "cell_type": "markdown",
   "id": "f55b1679",
   "metadata": {},
   "source": [
    "### Data Visualization with Numpy (and MatPlotLib)"
   ]
  },
  {
   "cell_type": "code",
   "execution_count": 98,
   "id": "e37d5c78",
   "metadata": {},
   "outputs": [],
   "source": [
    "nums = np.array([0.5, 0.7, 1.0, 1.2, 1.3, 2.1])\n",
    "nums\n",
    "bins_ = np.array([-1,0,1,2,3,4]) # bins into which I will group my numbers"
   ]
  },
  {
   "cell_type": "code",
   "execution_count": 93,
   "id": "30c0fe0e",
   "metadata": {},
   "outputs": [],
   "source": [
    "# we need MatPlotLib\n",
    "import matplotlib.pyplot as plt"
   ]
  },
  {
   "cell_type": "code",
   "execution_count": 99,
   "id": "59a0b0b3",
   "metadata": {},
   "outputs": [
    {
     "data": {
      "text/plain": [
       "(array([0., 2., 3., 1., 0.]),\n",
       " array([-1,  0,  1,  2,  3,  4]),\n",
       " <BarContainer object of 5 artists>)"
      ]
     },
     "execution_count": 99,
     "metadata": {},
     "output_type": "execute_result"
    },
    {
     "data": {
      "image/png": "[encoded data removed]",
      "text/plain": [
       "<Figure size 432x288 with 1 Axes>"
      ]
     },
     "metadata": {
      "needs_background": "light"
     },
     "output_type": "display_data"
    }
   ],
   "source": [
    "# plot a historgram using the bins\n",
    "plt.hist(nums, bins=bins_)"
   ]
  },
  {
   "cell_type": "code",
   "execution_count": 101,
   "id": "f9fcf8da",
   "metadata": {},
   "outputs": [
    {
     "name": "stdout",
     "output_type": "stream",
     "text": [
      "Wall time: 963 ms\n"
     ]
    }
   ],
   "source": [
    "# complex plotting is FAST\n",
    "points = np.arange(-5,5, 0.001) # 1000 equally spaced points\n",
    "points\n",
    "xs, ys = np.meshgrid(points, points) # 2-dimensional array of all our points\n",
    "%time z = np.sqrt(xs**2 + ys**2)"
   ]
  },
  {
   "cell_type": "code",
   "execution_count": 106,
   "id": "9f802395",
   "metadata": {},
   "outputs": [
    {
     "data": {
      "text/plain": [
       "<matplotlib.colorbar.Colorbar at 0x1c56f9037c0>"
      ]
     },
     "execution_count": 106,
     "metadata": {},
     "output_type": "execute_result"
    },
    {
     "data": {
      "image/png": "[encoded data removed]",
      "text/plain": [
       "<Figure size 432x288 with 2 Axes>"
      ]
     },
     "metadata": {
      "needs_background": "light"
     },
     "output_type": "display_data"
    }
   ],
   "source": [
    "plt.imshow(z, cmap=plt.cm.gray) # a mesh plot using grey colour map\n",
    "plt.colorbar()"
   ]
  },
  {
   "cell_type": "code",
   "execution_count": null,
   "id": "fc8dc672",
   "metadata": {},
   "outputs": [],
   "source": []
  }
 ],
 "metadata": {
  "kernelspec": {
   "display_name": "Python 3",
   "language": "python",
   "name": "python3"
  },
  "language_info": {
   "codemirror_mode": {
    "name": "ipython",
    "version": 3
   },
   "file_extension": ".py",
   "mimetype": "text/x-python",
   "name": "python",
   "nbconvert_exporter": "python",
   "pygments_lexer": "ipython3",
   "version": "3.8.8"
  }
 },
 "nbformat": 4,
 "nbformat_minor": 5
}
